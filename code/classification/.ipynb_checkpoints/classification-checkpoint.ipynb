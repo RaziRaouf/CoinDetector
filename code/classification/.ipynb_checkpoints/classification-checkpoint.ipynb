{
 "cells": [
  {
   "cell_type": "code",
   "execution_count": 1,
   "metadata": {},
   "outputs": [],
   "source": [
    "import os\n",
    "import numpy as np\n",
    "from tensorflow.keras.preprocessing import image\n",
    "from tensorflow.keras.utils import to_categorical\n",
    "from sklearn.model_selection import train_test_split\n",
    "\n"
   ]
  },
  {
   "cell_type": "code",
   "execution_count": null,
   "metadata": {},
   "outputs": [],
   "source": [
    "data_dir = '../../dataset/cropped_coins'\n",
    "image_size = (224, 224)  # Resize images to fit MobileNetV2 input size (224x224)\n",
    "\n",
    "# Initialize lists for images and labels\n",
    "images = []\n",
    "labels = []\n",
    "\n",
    "# Loop through each folder (representing each label) in the dataset directory\n",
    "for folder_name in os.listdir(data_dir):\n",
    "    folder_path = os.path.join(data_dir, folder_name)\n",
    "\n",
    "    # Check if it is a folder (not a file)\n",
    "    if os.path.isdir(folder_path):\n",
    "        label = folder_name  # Folder name is the label (e.g., '1 euro', '2 euro', etc.)\n",
    "        for filename in os.listdir(folder_path):\n",
    "            # Check if the file is an image (.jpg or .jpeg)\n",
    "            if filename.endswith('.jpg') or filename.endswith('.jpeg'):\n",
    "                img_path = os.path.join(folder_path, filename)\n",
    "\n",
    "                # Load and resize the image\n",
    "                img = image.load_img(img_path, target_size=image_size)\n",
    "\n",
    "                # Convert the image to a numpy array\n",
    "                img_array = image.img_to_array(img)\n",
    "\n",
    "                # Append the image and its corresponding label\n",
    "                images.append(img_array)\n",
    "                labels.append(label)\n",
    "\n",
    "# Convert images and labels to numpy arrays\n",
    "images = np.array(images)\n",
    "labels = np.array(labels)\n",
    "\n",
    "# Encode labels as integers (e.g., '1 euro' -> 0, '2 euro' -> 1, ...)\n",
    "label_dict = {label: idx for idx, label in enumerate(sorted(set(labels)))}\n",
    "labels = np.array([label_dict[label] for label in labels])\n",
    "\n",
    "# One-hot encode labels (e.g., [1, 0, 0] for '1 euro', [0, 1, 0] for '2 euro', etc.)\n",
    "labels = to_categorical(labels, num_classes=len(label_dict))\n",
    "\n",
    "# Normalize the images (scale pixel values to [0, 1])\n",
    "images = images / 255.0\n",
    "\n",
    "# Split data into training and validation sets (80% train, 20% validation)\n",
    "X_train, X_val, y_train, y_val = train_test_split(images, labels, test_size=0.2, random_state=42)\n",
    "\n",
    "# Check the shape of the data\n",
    "print(\"Training data shape:\", X_train.shape)\n",
    "print(\"Validation data shape:\", X_val.shape)"
   ]
  },
  {
   "cell_type": "code",
   "execution_count": null,
   "metadata": {},
   "outputs": [],
   "source": [
    "print(labels)\n",
    "print(label_dict)"
   ]
  },
  {
   "cell_type": "code",
   "execution_count": 27,
   "metadata": {},
   "outputs": [],
   "source": [
    "from tensorflow.keras.models import Sequential\n",
    "from tensorflow.keras.layers import Conv2D, MaxPooling2D, Flatten, Dense, Dropout\n",
    "from tensorflow.keras.optimizers import Adam\n",
    "\n",
    "model = Sequential()\n",
    "model.add(Conv2D(32, (3, 3), activation='relu', input_shape=(224, 224, 3)))\n",
    "model.add(MaxPooling2D(pool_size=(2, 2)))\n",
    "model.add(Conv2D(64, (3, 3), activation='relu'))\n",
    "model.add(MaxPooling2D(pool_size=(2, 2)))\n",
    "model.add(Flatten())\n",
    "model.add(Dense(128, activation='relu'))\n",
    "model.add(Dropout(0.5))\n",
    "model.add(Dense(8, activation='softmax'))\n",
    "\n",
    "model.compile(optimizer=Adam(), loss='categorical_crossentropy', metrics=['accuracy'])"
   ]
  },
  {
   "cell_type": "code",
   "execution_count": null,
   "metadata": {},
   "outputs": [],
   "source": [
    "history = model.fit(X_train, y_train, epochs=10, batch_size=32, validation_data=(X_val, y_val))"
   ]
  },
  {
   "cell_type": "code",
   "execution_count": null,
   "metadata": {},
   "outputs": [],
   "source": [
    "val_loss, val_accuracy = model.evaluate(X_val, y_val)\n",
    "print(f\"Validation Loss: {val_loss}\")\n",
    "print(f\"Validation Accuracy: {val_accuracy}\")"
   ]
  },
  {
   "cell_type": "code",
   "execution_count": null,
   "metadata": {},
   "outputs": [],
   "source": [
    "import numpy as np\n",
    "from sklearn.metrics import confusion_matrix\n",
    "import matplotlib.pyplot as plt\n",
    "y_pred=model.predict(X_val)\n",
    "y_pred_classes=np.argmax(y_pred,axis=1)\n",
    "y_true=np.argmax(y_val,axis=1)\n",
    "cm=confusion_matrix(y_pred_classes,y_true)\n",
    "print(cm)\n",
    "class_labels = ['0.01', '0.02', '0.05', '0.10', '0.20', '0.50', '1', '2']\n",
    "\n",
    "import seaborn as sns\n",
    "sns.heatmap(cm, annot=True, cmap='Blues',xticklabels=class_labels, yticklabels=class_labels)\n",
    "# Display the plot\n",
    "plt.xlabel('Predicted')\n",
    "plt.ylabel('True')\n",
    "plt.title('Confusion Matrix')\n",
    "plt.show()"
   ]
  },
  {
   "cell_type": "code",
   "execution_count": null,
   "metadata": {},
   "outputs": [],
   "source": [
    "y_pred=model.predict(X_train)\n",
    "y_pred_classes=np.argmax(y_pred,axis=1)\n",
    "y_true=np.argmax(y_train,axis=1)\n",
    "cm=confusion_matrix(y_pred_classes,y_true)\n",
    "print(cm)\n",
    "class_labels = ['0.01', '0.02', '0.05', '0.10', '0.20', '0.50', '1', '2']\n",
    "\n",
    "\n",
    "sns.heatmap(cm, annot=True, cmap='Blues',xticklabels=class_labels, yticklabels=class_labels)\n",
    "# Display the plot\n",
    "plt.xlabel('Predicted')\n",
    "plt.ylabel('True')\n",
    "plt.title('Confusion Matrix')\n",
    "plt.show()"
   ]
  },
  {
   "cell_type": "code",
   "execution_count": null,
   "metadata": {},
   "outputs": [],
   "source": [
    "from sklearn.metrics import f1_score, accuracy_score\n",
    "accuracy=accuracy_score(y_true,y_pred_classes)\n",
    "f1_score_weighted=f1_score(y_true,y_pred_classes,average='weighted')\n",
    "f1_score_macro=f1_score(y_true,y_pred_classes,average='macro')\n",
    "print(f\"the accuracy score is : {accuracy}\")\n",
    "print(f\"the weighted F1 score is : {f1_score_weighted}\")\n",
    "\n",
    "print(f\"the macro F1 score is {f1_score_macro}\")"
   ]
  },
  {
   "cell_type": "code",
   "execution_count": null,
   "metadata": {},
   "outputs": [],
   "source": [
    "import matplotlib.pyplot as plt\n",
    "\n",
    "# Path to the directory containing all the fox images\n",
    "fox_directory = os.path.join(data_dir, '1')\n",
    "\n",
    "# Initialize list for storing results\n",
    "image_names = []\n",
    "predicted_labels = []\n",
    "\n",
    "# Loop through each image in the 'fox' directory\n",
    "for filename in os.listdir(fox_directory):\n",
    "    # Check if the file is an image (.jpg or .jpeg)\n",
    "    if filename.endswith('.jpg') or filename.endswith('.jpeg'):\n",
    "        img_path = os.path.join(fox_directory, filename)\n",
    "\n",
    "        # Load and preprocess the image\n",
    "        img = image.load_img(img_path, target_size=(224, 224))  # Resize to match the model input size\n",
    "        img_array = image.img_to_array(img)  # Convert to numpy array\n",
    "        img_array = img_array / 255.0  # Normalize the image (same as during training)\n",
    "\n",
    "        # Add a batch dimension (model expects a batch of images)\n",
    "        img_array = np.expand_dims(img_array, axis=0)\n",
    "\n",
    "        # Make a prediction\n",
    "        prediction = model.predict(img_array)\n",
    "\n",
    "        # Get the predicted class (index of the highest probability)\n",
    "        predicted_class = np.argmax(prediction, axis=1)\n",
    "\n",
    "        # Map predicted class index to class label\n",
    "        reverse_label_dict = {v: k for k, v in label_dict.items()}\n",
    "        predicted_label = reverse_label_dict[predicted_class[0]]\n",
    "\n",
    "        # Store the result\n",
    "        image_names.append(filename)\n",
    "        predicted_labels.append(predicted_label)\n",
    "\n",
    "        # Optionally, display the image and its prediction\n",
    "        plt.imshow(img)\n",
    "        plt.axis('off')\n",
    "        plt.title(f\"Predicted: {predicted_label}\")\n",
    "        plt.show()\n",
    "\n",
    "# Print the results\n",
    "for img_name, label in zip(image_names, predicted_labels):\n",
    "    print(f\"Image: {img_name}, Predicted Label: {label}\")\n"
   ]
  }
 ],
 "metadata": {
  "kernelspec": {
   "display_name": "Python 3",
   "language": "python",
   "name": "python3"
  },
  "language_info": {
   "codemirror_mode": {
    "name": "ipython",
    "version": 3
   },
   "file_extension": ".py",
   "mimetype": "text/x-python",
   "name": "python",
   "nbconvert_exporter": "python",
   "pygments_lexer": "ipython3",
   "version": "3.10.11"
  }
 },
 "nbformat": 4,
 "nbformat_minor": 2
}
